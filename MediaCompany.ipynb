{
  "nbformat": 4,
  "nbformat_minor": 0,
  "metadata": {
    "kernelspec": {
      "display_name": "Python [default]",
      "language": "python",
      "name": "python3"
    },
    "language_info": {
      "codemirror_mode": {
        "name": "ipython",
        "version": 3
      },
      "file_extension": ".py",
      "mimetype": "text/x-python",
      "name": "python",
      "nbconvert_exporter": "python",
      "pygments_lexer": "ipython3",
      "version": "3.5.4"
    },
    "colab": {
      "name": "Media+Company.ipynb",
      "provenance": [],
      "toc_visible": true,
      "include_colab_link": true
    }
  },
  "cells": [
    {
      "cell_type": "markdown",
      "metadata": {
        "id": "view-in-github",
        "colab_type": "text"
      },
      "source": [
        "<a href=\"https://colab.research.google.com/github/june12mayank/Machine_learning_notebooks/blob/master/MediaCompany.ipynb\" target=\"_parent\"><img src=\"https://colab.research.google.com/assets/colab-badge.svg\" alt=\"Open In Colab\"/></a>"
      ]
    },
    {
      "cell_type": "markdown",
      "metadata": {
        "id": "4bfVsuyXiIWB",
        "colab_type": "text"
      },
      "source": [
        "## Media Company Case Study"
      ]
    },
    {
      "cell_type": "markdown",
      "metadata": {
        "id": "i1Ed4JNZiIWD",
        "colab_type": "text"
      },
      "source": [
        "Problem Statement: A digital media company (similar to Voot, Hotstar, Netflix, etc.) had launched a show. Initially, the show got a good response, but then witnessed a decline in viewership. The company wants to figure out what went wrong."
      ]
    },
    {
      "cell_type": "code",
      "metadata": {
        "id": "hHaGpWzeiIWE",
        "colab_type": "code",
        "colab": {}
      },
      "source": [
        "# Importing all required packages\n",
        "import numpy as np\n",
        "import pandas as pd\n",
        "import matplotlib.pyplot as plt\n",
        "import seaborn as sns\n",
        "%matplotlib inline"
      ],
      "execution_count": 0,
      "outputs": []
    },
    {
      "cell_type": "code",
      "metadata": {
        "id": "cvwAwOy_iIWH",
        "colab_type": "code",
        "colab": {}
      },
      "source": [
        "#Importing dataset\n",
        "media = pd.read_csv('mediacompany.csv')\n",
        "media = media.drop('Unnamed: 7',axis = 1)"
      ],
      "execution_count": 0,
      "outputs": []
    },
    {
      "cell_type": "code",
      "metadata": {
        "id": "0k0Sg4IAiIWK",
        "colab_type": "code",
        "colab": {}
      },
      "source": [
        "#Let's explore the top 5 rows\n",
        "media.head()"
      ],
      "execution_count": 0,
      "outputs": []
    },
    {
      "cell_type": "code",
      "metadata": {
        "id": "mKtB8-NkiIWO",
        "colab_type": "code",
        "colab": {}
      },
      "source": [
        "# Converting date to Pandas datetime format\n",
        "media['Date'] = pd.to_datetime(media['Date'])"
      ],
      "execution_count": 0,
      "outputs": []
    },
    {
      "cell_type": "code",
      "metadata": {
        "id": "LN4FZl65iIWR",
        "colab_type": "code",
        "colab": {
          "base_uri": "https://localhost:8080/",
          "height": 204
        },
        "outputId": "c1c41766-b19b-43d9-8066-87d099d6b2f9"
      },
      "source": [
        "media.head()"
      ],
      "execution_count": 7,
      "outputs": [
        {
          "output_type": "execute_result",
          "data": {
            "text/html": [
              "<div>\n",
              "<style scoped>\n",
              "    .dataframe tbody tr th:only-of-type {\n",
              "        vertical-align: middle;\n",
              "    }\n",
              "\n",
              "    .dataframe tbody tr th {\n",
              "        vertical-align: top;\n",
              "    }\n",
              "\n",
              "    .dataframe thead th {\n",
              "        text-align: right;\n",
              "    }\n",
              "</style>\n",
              "<table border=\"1\" class=\"dataframe\">\n",
              "  <thead>\n",
              "    <tr style=\"text-align: right;\">\n",
              "      <th></th>\n",
              "      <th>Date</th>\n",
              "      <th>Views_show</th>\n",
              "      <th>Visitors</th>\n",
              "      <th>Views_platform</th>\n",
              "      <th>Ad_impression</th>\n",
              "      <th>Cricket_match_india</th>\n",
              "      <th>Character_A</th>\n",
              "    </tr>\n",
              "  </thead>\n",
              "  <tbody>\n",
              "    <tr>\n",
              "      <th>0</th>\n",
              "      <td>2017-03-01</td>\n",
              "      <td>183738</td>\n",
              "      <td>1260228</td>\n",
              "      <td>1706478</td>\n",
              "      <td>1060860448</td>\n",
              "      <td>0</td>\n",
              "      <td>0</td>\n",
              "    </tr>\n",
              "    <tr>\n",
              "      <th>1</th>\n",
              "      <td>2017-03-02</td>\n",
              "      <td>193763</td>\n",
              "      <td>1270561</td>\n",
              "      <td>1690727</td>\n",
              "      <td>1031846645</td>\n",
              "      <td>0</td>\n",
              "      <td>0</td>\n",
              "    </tr>\n",
              "    <tr>\n",
              "      <th>2</th>\n",
              "      <td>2017-03-03</td>\n",
              "      <td>210479</td>\n",
              "      <td>1248183</td>\n",
              "      <td>1726157</td>\n",
              "      <td>1010867575</td>\n",
              "      <td>0</td>\n",
              "      <td>0</td>\n",
              "    </tr>\n",
              "    <tr>\n",
              "      <th>3</th>\n",
              "      <td>2017-03-04</td>\n",
              "      <td>240061</td>\n",
              "      <td>1492913</td>\n",
              "      <td>1855353</td>\n",
              "      <td>1079194579</td>\n",
              "      <td>1</td>\n",
              "      <td>0</td>\n",
              "    </tr>\n",
              "    <tr>\n",
              "      <th>4</th>\n",
              "      <td>2017-03-05</td>\n",
              "      <td>446314</td>\n",
              "      <td>1594712</td>\n",
              "      <td>2041418</td>\n",
              "      <td>1357736987</td>\n",
              "      <td>0</td>\n",
              "      <td>0</td>\n",
              "    </tr>\n",
              "  </tbody>\n",
              "</table>\n",
              "</div>"
            ],
            "text/plain": [
              "        Date  Views_show  ...  Cricket_match_india  Character_A\n",
              "0 2017-03-01      183738  ...                    0            0\n",
              "1 2017-03-02      193763  ...                    0            0\n",
              "2 2017-03-03      210479  ...                    0            0\n",
              "3 2017-03-04      240061  ...                    1            0\n",
              "4 2017-03-05      446314  ...                    0            0\n",
              "\n",
              "[5 rows x 7 columns]"
            ]
          },
          "metadata": {
            "tags": []
          },
          "execution_count": 7
        }
      ]
    },
    {
      "cell_type": "code",
      "metadata": {
        "id": "dHI51zRJiIWU",
        "colab_type": "code",
        "colab": {}
      },
      "source": [
        "from datetime import date\n",
        "\n",
        "d0 = date(2017, 2, 28)\n",
        "d1 = media.Date\n",
        "delta = d1 - d0\n",
        "media['day']= delta"
      ],
      "execution_count": 0,
      "outputs": []
    },
    {
      "cell_type": "code",
      "metadata": {
        "id": "9S4Ul85ciIWW",
        "colab_type": "code",
        "colab": {}
      },
      "source": [
        "media.head()"
      ],
      "execution_count": 0,
      "outputs": []
    },
    {
      "cell_type": "code",
      "metadata": {
        "id": "pTgaKyrGiIWY",
        "colab_type": "code",
        "colab": {}
      },
      "source": [
        "# Cleaning days\n",
        "media['day'] = media['day'].astype(str)\n",
        "media['day'] = media['day'].map(lambda x: x[0:2])\n",
        "media['day'] = media['day'].astype(int)"
      ],
      "execution_count": 0,
      "outputs": []
    },
    {
      "cell_type": "code",
      "metadata": {
        "id": "cCBGtBHViIWb",
        "colab_type": "code",
        "colab": {}
      },
      "source": [
        "media.head()"
      ],
      "execution_count": 0,
      "outputs": []
    },
    {
      "cell_type": "code",
      "metadata": {
        "id": "qxbGV7PuiIWd",
        "colab_type": "code",
        "colab": {}
      },
      "source": [
        "# days vs Views_show\n",
        "media.plot.line(x='day', y='Views_show')"
      ],
      "execution_count": 0,
      "outputs": []
    },
    {
      "cell_type": "code",
      "metadata": {
        "id": "aOF4hW8TiIWg",
        "colab_type": "code",
        "colab": {}
      },
      "source": [
        "# Scatter Plot (days vs Views_show)\n",
        "colors = (0,0,0)\n",
        "area = np.pi*3\n",
        "plt.scatter(media.day, media.Views_show, s=area, c=colors, alpha=0.5)\n",
        "plt.title('Scatter plot pythonspot.com')\n",
        "plt.xlabel('x')\n",
        "plt.ylabel('y')\n",
        "plt.show()"
      ],
      "execution_count": 0,
      "outputs": []
    },
    {
      "cell_type": "code",
      "metadata": {
        "id": "n8lFP9SQiIWj",
        "colab_type": "code",
        "colab": {}
      },
      "source": [
        "# plot for days vs Views_show and days vs Ad_impressions\n",
        "\n",
        "fig = plt.figure()\n",
        "host = fig.add_subplot(111)\n",
        "\n",
        "par1 = host.twinx()\n",
        "par2 = host.twinx()\n",
        "\n",
        "host.set_xlabel(\"Day\")\n",
        "host.set_ylabel(\"View_Show\")\n",
        "par1.set_ylabel(\"Ad_impression\")\n",
        "\n",
        "color1 = plt.cm.viridis(0)\n",
        "color2 = plt.cm.viridis(0.5)\n",
        "color3 = plt.cm.viridis(.9)\n",
        "\n",
        "p1, = host.plot(media.day,media.Views_show, color=color1,label=\"View_Show\")\n",
        "p2, = par1.plot(media.day,media.Ad_impression,color=color2, label=\"Ad_impression\")\n",
        "\n",
        "lns = [p1, p2]\n",
        "host.legend(handles=lns, loc='best')\n",
        "\n",
        "# right, left, top, bottom\n",
        "par2.spines['right'].set_position(('outward', 60))      \n",
        "# no x-ticks                 \n",
        "par2.xaxis.set_ticks([])\n",
        "# Sometimes handy, same for xaxis\n",
        "#par2.yaxis.set_ticks_position('right')\n",
        "\n",
        "host.yaxis.label.set_color(p1.get_color())\n",
        "par1.yaxis.label.set_color(p2.get_color())\n",
        "\n",
        "plt.savefig(\"pyplot_multiple_y-axis.png\", bbox_inches='tight')"
      ],
      "execution_count": 0,
      "outputs": []
    },
    {
      "cell_type": "code",
      "metadata": {
        "id": "GRC3dokMiIWl",
        "colab_type": "code",
        "colab": {}
      },
      "source": [
        "# Derived Metrics\n",
        "# Weekdays are taken such that 1 corresponds to Sunday and 7 to Saturday\n",
        "# Generate the weekday variable\n",
        "media['weekday'] = (media['day']+3)%7\n",
        "media.weekday.replace(0,7, inplace=True)\n",
        "media['weekday'] = media['weekday'].astype(int)\n",
        "media.head()"
      ],
      "execution_count": 0,
      "outputs": []
    },
    {
      "cell_type": "markdown",
      "metadata": {
        "id": "wyS0powiiIWn",
        "colab_type": "text"
      },
      "source": [
        "#### Running first model (lm1) Weekday & visitors "
      ]
    },
    {
      "cell_type": "code",
      "metadata": {
        "id": "Jfn7ZSB3iIWo",
        "colab_type": "code",
        "colab": {}
      },
      "source": [
        "# Putting feature variable to X\n",
        "X = media[['Visitors','weekday']]\n",
        "\n",
        "# Putting response variable to y\n",
        "y = media['Views_show']"
      ],
      "execution_count": 0,
      "outputs": []
    },
    {
      "cell_type": "code",
      "metadata": {
        "id": "2FM8qEVUiIWq",
        "colab_type": "code",
        "colab": {}
      },
      "source": [
        "from sklearn.linear_model import LinearRegression"
      ],
      "execution_count": 0,
      "outputs": []
    },
    {
      "cell_type": "code",
      "metadata": {
        "id": "UNTEpESfiIWt",
        "colab_type": "code",
        "colab": {}
      },
      "source": [
        "# Representing LinearRegression as lr(Creating LinearRegression Object)\n",
        "lm = LinearRegression()"
      ],
      "execution_count": 0,
      "outputs": []
    },
    {
      "cell_type": "code",
      "metadata": {
        "id": "ZCd7gzodiIWv",
        "colab_type": "code",
        "colab": {}
      },
      "source": [
        "# fit the model to the training data\n",
        "lm.fit(X,y)"
      ],
      "execution_count": 0,
      "outputs": []
    },
    {
      "cell_type": "code",
      "metadata": {
        "id": "DH5D8S6oiIWy",
        "colab_type": "code",
        "colab": {}
      },
      "source": [
        "import statsmodels.api as sm\n",
        "#Unlike SKLearn, statsmodels don't automatically fit a constant, \n",
        "#so you need to use the method sm.add_constant(X) in order to add a constant. \n",
        "X = sm.add_constant(X)\n",
        "# create a fitted model in one line\n",
        "lm_1 = sm.OLS(y,X).fit()\n",
        "print(lm_1.summary())"
      ],
      "execution_count": 0,
      "outputs": []
    },
    {
      "cell_type": "code",
      "metadata": {
        "id": "WKOWJH0IiIW0",
        "colab_type": "code",
        "colab": {}
      },
      "source": [
        "# create Weekend variable, with value 1 at weekends and 0 at weekdays\n",
        "def cond(i):\n",
        "    if i % 7 == 5: return 1\n",
        "    elif i % 7 == 4: return 1\n",
        "    else :return 0\n",
        "    return i\n",
        "\n",
        "media['weekend']=[cond(i) for i in media['day']]"
      ],
      "execution_count": 0,
      "outputs": []
    },
    {
      "cell_type": "code",
      "metadata": {
        "id": "c30hNySeiIW3",
        "colab_type": "code",
        "colab": {}
      },
      "source": [
        "media.head()\n"
      ],
      "execution_count": 0,
      "outputs": []
    },
    {
      "cell_type": "markdown",
      "metadata": {
        "id": "6A_wAHKRiIW7",
        "colab_type": "text"
      },
      "source": [
        "#### Running second model (lm2) visitors & weekend"
      ]
    },
    {
      "cell_type": "code",
      "metadata": {
        "id": "gwripd1ciIW-",
        "colab_type": "code",
        "colab": {}
      },
      "source": [
        "# Putting feature variable to X\n",
        "X = media[['Visitors','weekend']]\n",
        "\n",
        "# Putting response variable to y\n",
        "y = media['Views_show']"
      ],
      "execution_count": 0,
      "outputs": []
    },
    {
      "cell_type": "code",
      "metadata": {
        "id": "fXugmC_MiIXD",
        "colab_type": "code",
        "colab": {}
      },
      "source": [
        "import statsmodels.api as sm\n",
        "#Unlike SKLearn, statsmodels don't automatically fit a constant, \n",
        "#so you need to use the method sm.add_constant(X) in order to add a constant. \n",
        "X = sm.add_constant(X)\n",
        "# create a fitted model in one line\n",
        "lm_2 = sm.OLS(y,X).fit()\n",
        "print(lm_2.summary())"
      ],
      "execution_count": 0,
      "outputs": []
    },
    {
      "cell_type": "markdown",
      "metadata": {
        "id": "ffdaahodiIXF",
        "colab_type": "text"
      },
      "source": [
        "#### Running third model (lm3) visitors, weekend & Character_A"
      ]
    },
    {
      "cell_type": "code",
      "metadata": {
        "id": "ruw2XRnXiIXG",
        "colab_type": "code",
        "colab": {}
      },
      "source": [
        "# Putting feature variable to X\n",
        "X = media[['Visitors','weekend','Character_A']]\n",
        "\n",
        "# Putting response variable to y\n",
        "y = media['Views_show']"
      ],
      "execution_count": 0,
      "outputs": []
    },
    {
      "cell_type": "code",
      "metadata": {
        "id": "oXpDMqKEiIXI",
        "colab_type": "code",
        "colab": {}
      },
      "source": [
        "import statsmodels.api as sm\n",
        "#Unlike SKLearn, statsmodels don't automatically fit a constant, \n",
        "#so you need to use the method sm.add_constant(X) in order to add a constant. \n",
        "X = sm.add_constant(X)\n",
        "# create a fitted model in one line\n",
        "lm_3 = sm.OLS(y,X).fit()\n",
        "print(lm_3.summary())"
      ],
      "execution_count": 0,
      "outputs": []
    },
    {
      "cell_type": "code",
      "metadata": {
        "id": "3xG4PFkpiIXK",
        "colab_type": "code",
        "colab": {}
      },
      "source": [
        "# Create lag variable\n",
        "media['Lag_Views'] = np.roll(media['Views_show'], 1)\n",
        "media.Lag_Views.replace(108961,0, inplace=True)"
      ],
      "execution_count": 0,
      "outputs": []
    },
    {
      "cell_type": "code",
      "metadata": {
        "id": "RS7OLfy8iIXM",
        "colab_type": "code",
        "colab": {}
      },
      "source": [
        "media.head(10)\n"
      ],
      "execution_count": 0,
      "outputs": []
    },
    {
      "cell_type": "markdown",
      "metadata": {
        "id": "oPzegbSOiIXO",
        "colab_type": "text"
      },
      "source": [
        "#### Running fourth model (lm4) visitors, Character_A, Lag_views & weekend"
      ]
    },
    {
      "cell_type": "code",
      "metadata": {
        "id": "HrlYC9A2iIXP",
        "colab_type": "code",
        "colab": {}
      },
      "source": [
        "# Putting feature variable to X\n",
        "X = media[['Visitors','Character_A','Lag_Views','weekend']]\n",
        "\n",
        "# Putting response variable to y\n",
        "y = media['Views_show']"
      ],
      "execution_count": 0,
      "outputs": []
    },
    {
      "cell_type": "code",
      "metadata": {
        "id": "OFHAbSb5iIXR",
        "colab_type": "code",
        "colab": {}
      },
      "source": [
        "import statsmodels.api as sm\n",
        "#Unlike SKLearn, statsmodels don't automatically fit a constant, \n",
        "#so you need to use the method sm.add_constant(X) in order to add a constant. \n",
        "X = sm.add_constant(X)\n",
        "# create a fitted model in one line\n",
        "lm_4 = sm.OLS(y,X).fit()\n",
        "print(lm_4.summary())"
      ],
      "execution_count": 0,
      "outputs": []
    },
    {
      "cell_type": "code",
      "metadata": {
        "id": "walLgrTeiIXX",
        "colab_type": "code",
        "colab": {}
      },
      "source": [
        "plt.figure(figsize = (20,10))        # Size of the figure\n",
        "sns.heatmap(media.corr(),annot = True)"
      ],
      "execution_count": 0,
      "outputs": []
    },
    {
      "cell_type": "markdown",
      "metadata": {
        "id": "qlPbVUU_iIXa",
        "colab_type": "text"
      },
      "source": [
        "#### Running fifth model (lm5) Character_A, weekend & Views_platform"
      ]
    },
    {
      "cell_type": "code",
      "metadata": {
        "id": "5m9B0QbCiIXb",
        "colab_type": "code",
        "colab": {}
      },
      "source": [
        "# Putting feature variable to X\n",
        "X = media[['weekend','Character_A','Views_platform']]\n",
        "\n",
        "# Putting response variable to y\n",
        "y = media['Views_show']"
      ],
      "execution_count": 0,
      "outputs": []
    },
    {
      "cell_type": "code",
      "metadata": {
        "id": "5abo5Dt5iIXf",
        "colab_type": "code",
        "colab": {}
      },
      "source": [
        "import statsmodels.api as sm\n",
        "#Unlike SKLearn, statsmodels don't automatically fit a constant, \n",
        "#so you need to use the method sm.add_constant(X) in order to add a constant. \n",
        "X = sm.add_constant(X)\n",
        "# create a fitted model in one line\n",
        "lm_5 = sm.OLS(y,X).fit()\n",
        "print(lm_5.summary())"
      ],
      "execution_count": 0,
      "outputs": []
    },
    {
      "cell_type": "markdown",
      "metadata": {
        "id": "4eJcLm_piIXj",
        "colab_type": "text"
      },
      "source": [
        "#### Running sixth model (lm6) Character_A, weekend & Visitors"
      ]
    },
    {
      "cell_type": "code",
      "metadata": {
        "id": "0EEmlOguiIXl",
        "colab_type": "code",
        "colab": {}
      },
      "source": [
        "# Putting feature variable to X\n",
        "X = media[['weekend','Character_A','Visitors']]\n",
        "\n",
        "# Putting response variable to y\n",
        "y = media['Views_show']"
      ],
      "execution_count": 0,
      "outputs": []
    },
    {
      "cell_type": "code",
      "metadata": {
        "id": "o_-odUEmiIXn",
        "colab_type": "code",
        "colab": {}
      },
      "source": [
        "import statsmodels.api as sm\n",
        "#Unlike SKLearn, statsmodels don't automatically fit a constant, \n",
        "#so you need to use the method sm.add_constant(X) in order to add a constant. \n",
        "X = sm.add_constant(X)\n",
        "# create a fitted model in one line\n",
        "lm_6 = sm.OLS(y,X).fit()\n",
        "print(lm_6.summary())"
      ],
      "execution_count": 0,
      "outputs": []
    },
    {
      "cell_type": "markdown",
      "metadata": {
        "id": "SJMrGLn7iIXp",
        "colab_type": "text"
      },
      "source": [
        "#### Running seventh model (lm7) Character_A, weekend, Visitors & Ad_impressions"
      ]
    },
    {
      "cell_type": "code",
      "metadata": {
        "id": "7sCDof4ViIXq",
        "colab_type": "code",
        "colab": {}
      },
      "source": [
        "# Putting feature variable to X\n",
        "X = media[['weekend','Character_A','Visitors','Ad_impression']]\n",
        "\n",
        "# Putting response variable to y\n",
        "y = media['Views_show']"
      ],
      "execution_count": 0,
      "outputs": []
    },
    {
      "cell_type": "code",
      "metadata": {
        "id": "54r63aroiIXr",
        "colab_type": "code",
        "colab": {}
      },
      "source": [
        "import statsmodels.api as sm\n",
        "#Unlike SKLearn, statsmodels don't automatically fit a constant, \n",
        "#so you need to use the method sm.add_constant(X) in order to add a constant. \n",
        "X = sm.add_constant(X)\n",
        "# create a fitted model in one line\n",
        "lm_7 = sm.OLS(y,X).fit()\n",
        "print(lm_7.summary())"
      ],
      "execution_count": 0,
      "outputs": []
    },
    {
      "cell_type": "markdown",
      "metadata": {
        "id": "hJ4BfI5kiIXt",
        "colab_type": "text"
      },
      "source": [
        "#### Running eight model (lm8) Character_A, weekend & Ad_impressions"
      ]
    },
    {
      "cell_type": "code",
      "metadata": {
        "id": "sG1zr-rbiIXu",
        "colab_type": "code",
        "colab": {}
      },
      "source": [
        "# Putting feature variable to X\n",
        "X = media[['weekend','Character_A','Ad_impression']]\n",
        "\n",
        "# Putting response variable to y\n",
        "y = media['Views_show']"
      ],
      "execution_count": 0,
      "outputs": []
    },
    {
      "cell_type": "code",
      "metadata": {
        "id": "0YtjQ14giIXx",
        "colab_type": "code",
        "colab": {}
      },
      "source": [
        "import statsmodels.api as sm\n",
        "#Unlike SKLearn, statsmodels don't automatically fit a constant, \n",
        "#so you need to use the method sm.add_constant(X) in order to add a constant. \n",
        "X = sm.add_constant(X)\n",
        "# create a fitted model in one line\n",
        "lm_8 = sm.OLS(y,X).fit()\n",
        "print(lm_8.summary())"
      ],
      "execution_count": 0,
      "outputs": []
    },
    {
      "cell_type": "code",
      "metadata": {
        "id": "2aBRNA-HiIXz",
        "colab_type": "code",
        "colab": {}
      },
      "source": [
        "#Ad impression in million\n",
        "media['ad_impression_million'] = media['Ad_impression']/1000000"
      ],
      "execution_count": 0,
      "outputs": []
    },
    {
      "cell_type": "markdown",
      "metadata": {
        "id": "oZvqBcxmiIX2",
        "colab_type": "text"
      },
      "source": [
        "#### Running seventh model (lm7) Character_A, weekend, Visitors, ad_impressions_million & Cricket_match_india"
      ]
    },
    {
      "cell_type": "code",
      "metadata": {
        "id": "ASUlrv5XiIX3",
        "colab_type": "code",
        "colab": {}
      },
      "source": [
        "# Putting feature variable to X\n",
        "X = media[['weekend','Character_A','ad_impression_million','Cricket_match_india']]\n",
        "\n",
        "# Putting response variable to y\n",
        "y = media['Views_show']"
      ],
      "execution_count": 0,
      "outputs": []
    },
    {
      "cell_type": "code",
      "metadata": {
        "id": "FDZb-tomiIX5",
        "colab_type": "code",
        "colab": {}
      },
      "source": [
        "import statsmodels.api as sm\n",
        "#Unlike SKLearn, statsmodels don't automatically fit a constant, \n",
        "#so you need to use the method sm.add_constant(X) in order to add a constant. \n",
        "X = sm.add_constant(X)\n",
        "# create a fitted model in one line\n",
        "lm_9 = sm.OLS(y,X).fit()\n",
        "print(lm_9.summary())"
      ],
      "execution_count": 0,
      "outputs": []
    },
    {
      "cell_type": "markdown",
      "metadata": {
        "id": "FpCTSik1iIX7",
        "colab_type": "text"
      },
      "source": [
        "#### Running seventh model (lm7) Character_A, weekend & ad_impressions_million"
      ]
    },
    {
      "cell_type": "code",
      "metadata": {
        "id": "nB_El8yBiIX7",
        "colab_type": "code",
        "colab": {}
      },
      "source": [
        "# Putting feature variable to X\n",
        "X = media[['weekend','Character_A','ad_impression_million']]\n",
        "\n",
        "# Putting response variable to y\n",
        "y = media['Views_show']"
      ],
      "execution_count": 0,
      "outputs": []
    },
    {
      "cell_type": "code",
      "metadata": {
        "id": "iH9MGgS3iIX9",
        "colab_type": "code",
        "colab": {}
      },
      "source": [
        "import statsmodels.api as sm\n",
        "#Unlike SKLearn, statsmodels don't automatically fit a constant, \n",
        "#so you need to use the method sm.add_constant(X) in order to add a constant. \n",
        "X = sm.add_constant(X)\n",
        "# create a fitted model in one line\n",
        "lm_10 = sm.OLS(y,X).fit()\n",
        "print(lm_10.summary())"
      ],
      "execution_count": 0,
      "outputs": []
    },
    {
      "cell_type": "markdown",
      "metadata": {
        "id": "i3YzPIb8iIYB",
        "colab_type": "text"
      },
      "source": [
        "#### Making predictions using lm10"
      ]
    },
    {
      "cell_type": "code",
      "metadata": {
        "id": "2D3zo0oviIYC",
        "colab_type": "code",
        "colab": {}
      },
      "source": [
        "# Making predictions using the model\n",
        "X = media[['weekend','Character_A','ad_impression_million']]\n",
        "X = sm.add_constant(X)\n",
        "Predicted_views = lm_10.predict(X)"
      ],
      "execution_count": 0,
      "outputs": []
    },
    {
      "cell_type": "code",
      "metadata": {
        "id": "zIR-vNagiIYF",
        "colab_type": "code",
        "colab": {}
      },
      "source": [
        "from sklearn.metrics import mean_squared_error, r2_score\n",
        "mse = mean_squared_error(media.Views_show, Predicted_views)\n",
        "r_squared = r2_score(media.Views_show, Predicted_views)"
      ],
      "execution_count": 0,
      "outputs": []
    },
    {
      "cell_type": "code",
      "metadata": {
        "id": "vIl16rHGiIYK",
        "colab_type": "code",
        "colab": {}
      },
      "source": [
        "print('Mean_Squared_Error :' ,mse)\n",
        "print('r_square_value :',r_squared)"
      ],
      "execution_count": 0,
      "outputs": []
    },
    {
      "cell_type": "code",
      "metadata": {
        "id": "a5qs2cOAiIYP",
        "colab_type": "code",
        "colab": {}
      },
      "source": [
        "#Actual vs Predicted\n",
        "c = [i for i in range(1,81,1)]\n",
        "fig = plt.figure()\n",
        "plt.plot(c,media.Views_show, color=\"blue\", linewidth=2.5, linestyle=\"-\")\n",
        "plt.plot(c,Predicted_views, color=\"red\",  linewidth=2.5, linestyle=\"-\")\n",
        "fig.suptitle('Actual and Predicted', fontsize=20)              # Plot heading \n",
        "plt.xlabel('Index', fontsize=18)                               # X-label\n",
        "plt.ylabel('Views', fontsize=16)                               # Y-label"
      ],
      "execution_count": 0,
      "outputs": []
    },
    {
      "cell_type": "code",
      "metadata": {
        "id": "glOa3OhGiIYS",
        "colab_type": "code",
        "colab": {}
      },
      "source": [
        "# Error terms\n",
        "c = [i for i in range(1,81,1)]\n",
        "fig = plt.figure()\n",
        "plt.plot(c,media.Views_show-Predicted_views, color=\"blue\", linewidth=2.5, linestyle=\"-\")\n",
        "fig.suptitle('Error Terms', fontsize=20)              # Plot heading \n",
        "plt.xlabel('Index', fontsize=18)                      # X-label\n",
        "plt.ylabel('Views_show-Predicted_views', fontsize=16)                # Y-label"
      ],
      "execution_count": 0,
      "outputs": []
    },
    {
      "cell_type": "markdown",
      "metadata": {
        "id": "wWMhvsZTiIYZ",
        "colab_type": "text"
      },
      "source": [
        "#### Making predictions using lm6"
      ]
    },
    {
      "cell_type": "code",
      "metadata": {
        "id": "Aks4J3eWiIYb",
        "colab_type": "code",
        "colab": {}
      },
      "source": [
        "# Making predictions using the model\n",
        "X = media[['weekend','Character_A','Visitors']]\n",
        "X = sm.add_constant(X)\n",
        "Predicted_views = lm_6.predict(X)"
      ],
      "execution_count": 0,
      "outputs": []
    },
    {
      "cell_type": "code",
      "metadata": {
        "id": "k2GViOK1iIYd",
        "colab_type": "code",
        "colab": {}
      },
      "source": [
        "from sklearn.metrics import mean_squared_error, r2_score\n",
        "mse = mean_squared_error(media.Views_show, Predicted_views)\n",
        "r_squared = r2_score(media.Views_show, Predicted_views)"
      ],
      "execution_count": 0,
      "outputs": []
    },
    {
      "cell_type": "code",
      "metadata": {
        "id": "agDxKUZHiIYf",
        "colab_type": "code",
        "colab": {}
      },
      "source": [
        "print('Mean_Squared_Error :' ,mse)\n",
        "print('r_square_value :',r_squared)"
      ],
      "execution_count": 0,
      "outputs": []
    },
    {
      "cell_type": "code",
      "metadata": {
        "id": "B1_x8L30iIYg",
        "colab_type": "code",
        "colab": {}
      },
      "source": [
        "#Actual vs Predicted\n",
        "c = [i for i in range(1,81,1)]\n",
        "fig = plt.figure()\n",
        "plt.plot(c,media.Views_show, color=\"blue\", linewidth=2.5, linestyle=\"-\")\n",
        "plt.plot(c,Predicted_views, color=\"red\",  linewidth=2.5, linestyle=\"-\")\n",
        "fig.suptitle('Actual and Predicted', fontsize=20)              # Plot heading \n",
        "plt.xlabel('Index', fontsize=18)                               # X-label\n",
        "plt.ylabel('Views', fontsize=16)                               # Y-label"
      ],
      "execution_count": 0,
      "outputs": []
    },
    {
      "cell_type": "code",
      "metadata": {
        "id": "Ve_Ya1AViIYi",
        "colab_type": "code",
        "colab": {}
      },
      "source": [
        "# Error terms\n",
        "c = [i for i in range(1,81,1)]\n",
        "fig = plt.figure()\n",
        "plt.plot(c,media.Views_show-Predicted_views, color=\"blue\", linewidth=2.5, linestyle=\"-\")\n",
        "fig.suptitle('Error Terms', fontsize=20)              # Plot heading \n",
        "plt.xlabel('Index', fontsize=18)                      # X-label\n",
        "plt.ylabel('Views_show-Predicted_views', fontsize=16)                # Y-label"
      ],
      "execution_count": 0,
      "outputs": []
    }
  ]
}