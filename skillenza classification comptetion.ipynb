{
  "nbformat": 4,
  "nbformat_minor": 0,
  "metadata": {
    "colab": {
      "name": "skillenza",
      "provenance": [],
      "include_colab_link": true
    },
    "kernelspec": {
      "name": "python3",
      "display_name": "Python 3"
    }
  },
  "cells": [
    {
      "cell_type": "markdown",
      "metadata": {
        "id": "view-in-github",
        "colab_type": "text"
      },
      "source": [
        "<a href=\"https://colab.research.google.com/github/june12mayank/Machine_learning_notebooks/blob/master/skillenza%20classification%20comptetion.ipynb\" target=\"_parent\"><img src=\"https://colab.research.google.com/assets/colab-badge.svg\" alt=\"Open In Colab\"/></a>"
      ]
    },
    {
      "cell_type": "code",
      "metadata": {
        "id": "NzsF7-YYPMMN",
        "colab_type": "code",
        "colab": {}
      },
      "source": [
        "import pandas as pd\n",
        "import matplotlib.pyplot as plt\n",
        "import seaborn as sns\n",
        "import numpy as np\n",
        "%matplotlib inline\n",
        "color = sns.color_palette()\n",
        "sns.set_style('darkgrid')\n",
        "import warnings\n",
        "def ignore_warn(*args, **kwargs):\n",
        "    pass\n",
        "warnings.warn = ignore_warn\n",
        "from scipy import stats\n",
        "from scipy.stats import norm, skew\n",
        "import xgboost as xgb\n",
        "from sklearn.model_selection import train_test_split"
      ],
      "execution_count": 0,
      "outputs": []
    },
    {
      "cell_type": "code",
      "metadata": {
        "id": "9a9PvlWLPrBm",
        "colab_type": "code",
        "colab": {}
      },
      "source": [
        "sample=pd.read_csv('/content/SAMPLE.csv')\n",
        "test=pd.read_csv('/content/TEST.csv')\n",
        "train=pd.read_csv('/content/TRAINING.csv')"
      ],
      "execution_count": 0,
      "outputs": []
    },
    {
      "cell_type": "code",
      "metadata": {
        "id": "qaqL9dET9_M0",
        "colab_type": "code",
        "colab": {
          "base_uri": "https://localhost:8080/",
          "height": 340
        },
        "outputId": "2ecf7eca-307f-47ce-93b6-a60d9c80dd7a"
      },
      "source": [
        "train.info()"
      ],
      "execution_count": 56,
      "outputs": [
        {
          "output_type": "stream",
          "text": [
            "<class 'pandas.core.frame.DataFrame'>\n",
            "RangeIndex: 7000 entries, 0 to 6999\n",
            "Data columns (total 14 columns):\n",
            "id             7000 non-null int64\n",
            "Area(total)    7000 non-null int64\n",
            "Troom          6998 non-null float64\n",
            "Nbedrooms      6997 non-null float64\n",
            "Nbwashrooms    6998 non-null float64\n",
            "Twashrooms     6999 non-null float64\n",
            "roof           5647 non-null object\n",
            "Roof(Area)     5647 non-null float64\n",
            "Lawn(Area)     6998 non-null float64\n",
            "Nfloors        7000 non-null int64\n",
            "API            6999 non-null float64\n",
            "ANB            7000 non-null int64\n",
            "Grade          7000 non-null object\n",
            "Price          7000 non-null object\n",
            "dtypes: float64(7), int64(4), object(3)\n",
            "memory usage: 765.8+ KB\n"
          ],
          "name": "stdout"
        }
      ]
    },
    {
      "cell_type": "code",
      "metadata": {
        "id": "_GdnhOnC6i2b",
        "colab_type": "code",
        "colab": {
          "base_uri": "https://localhost:8080/",
          "height": 34
        },
        "outputId": "bc388899-7e53-49b3-e5b5-4c4b77784eb6"
      },
      "source": [
        "train_id=train['id']\n",
        "test_id=test['id']\n",
        "print(train.shape,test.shape)"
      ],
      "execution_count": 31,
      "outputs": [
        {
          "output_type": "stream",
          "text": [
            "(7000, 14) (3299, 13)\n"
          ],
          "name": "stdout"
        }
      ]
    },
    {
      "cell_type": "code",
      "metadata": {
        "id": "Tt2LMmBX9Ejl",
        "colab_type": "code",
        "colab": {
          "base_uri": "https://localhost:8080/",
          "height": 34
        },
        "outputId": "920751b6-011d-4452-e882-2585a9cd977d"
      },
      "source": [
        "ntrain=train.shape[0]\n",
        "ntest=test.shape[0]\n",
        "y_train=train.Grade.values\n",
        "df=pd.concat((train,test)).reset_index(drop=True)\n",
        "df.drop(['Grade'],axis=1,inplace=True)\n",
        "df.shape"
      ],
      "execution_count": 33,
      "outputs": [
        {
          "output_type": "execute_result",
          "data": {
            "text/plain": [
              "(10299, 13)"
            ]
          },
          "metadata": {
            "tags": []
          },
          "execution_count": 33
        }
      ]
    },
    {
      "cell_type": "code",
      "metadata": {
        "id": "1RbtQwuP9Ecm",
        "colab_type": "code",
        "colab": {
          "base_uri": "https://localhost:8080/",
          "height": 297
        },
        "outputId": "6023c301-1e42-416b-acd7-53ac466c6a60"
      },
      "source": [
        "all_data_na = (df.isnull().sum() / len(df)) * 100\n",
        "all_data_na = all_data_na.drop(all_data_na[all_data_na == 0].index).sort_values(ascending=False)[:30]\n",
        "missing_data = pd.DataFrame({'Missing Ratio' :all_data_na})\n",
        "missing_data"
      ],
      "execution_count": 35,
      "outputs": [
        {
          "output_type": "execute_result",
          "data": {
            "text/html": [
              "<div>\n",
              "<style scoped>\n",
              "    .dataframe tbody tr th:only-of-type {\n",
              "        vertical-align: middle;\n",
              "    }\n",
              "\n",
              "    .dataframe tbody tr th {\n",
              "        vertical-align: top;\n",
              "    }\n",
              "\n",
              "    .dataframe thead th {\n",
              "        text-align: right;\n",
              "    }\n",
              "</style>\n",
              "<table border=\"1\" class=\"dataframe\">\n",
              "  <thead>\n",
              "    <tr style=\"text-align: right;\">\n",
              "      <th></th>\n",
              "      <th>Missing Ratio</th>\n",
              "    </tr>\n",
              "  </thead>\n",
              "  <tbody>\n",
              "    <tr>\n",
              "      <th>roof</th>\n",
              "      <td>19.477619</td>\n",
              "    </tr>\n",
              "    <tr>\n",
              "      <th>Roof(Area)</th>\n",
              "      <td>19.477619</td>\n",
              "    </tr>\n",
              "    <tr>\n",
              "      <th>Nbedrooms</th>\n",
              "      <td>0.038839</td>\n",
              "    </tr>\n",
              "    <tr>\n",
              "      <th>Troom</th>\n",
              "      <td>0.029129</td>\n",
              "    </tr>\n",
              "    <tr>\n",
              "      <th>Nbwashrooms</th>\n",
              "      <td>0.029129</td>\n",
              "    </tr>\n",
              "    <tr>\n",
              "      <th>Lawn(Area)</th>\n",
              "      <td>0.029129</td>\n",
              "    </tr>\n",
              "    <tr>\n",
              "      <th>API</th>\n",
              "      <td>0.019419</td>\n",
              "    </tr>\n",
              "    <tr>\n",
              "      <th>Twashrooms</th>\n",
              "      <td>0.009710</td>\n",
              "    </tr>\n",
              "  </tbody>\n",
              "</table>\n",
              "</div>"
            ],
            "text/plain": [
              "             Missing Ratio\n",
              "roof             19.477619\n",
              "Roof(Area)       19.477619\n",
              "Nbedrooms         0.038839\n",
              "Troom             0.029129\n",
              "Nbwashrooms       0.029129\n",
              "Lawn(Area)        0.029129\n",
              "API               0.019419\n",
              "Twashrooms        0.009710"
            ]
          },
          "metadata": {
            "tags": []
          },
          "execution_count": 35
        }
      ]
    },
    {
      "cell_type": "code",
      "metadata": {
        "id": "rOJPHNhf9EZH",
        "colab_type": "code",
        "colab": {}
      },
      "source": [
        "df['roof']=df['roof'].fillna('NO')"
      ],
      "execution_count": 0,
      "outputs": []
    },
    {
      "cell_type": "code",
      "metadata": {
        "id": "j3d7IF3D9EW9",
        "colab_type": "code",
        "colab": {}
      },
      "source": [
        "df['Roof(Area)']=df['Roof(Area)'].fillna(0.0)"
      ],
      "execution_count": 0,
      "outputs": []
    },
    {
      "cell_type": "code",
      "metadata": {
        "id": "VNh63sLZH0UL",
        "colab_type": "code",
        "colab": {}
      },
      "source": [
        "#because of correlation in Tbathrooms and bedrooms but then boxplot\n",
        "df[\"Nbedrooms\"] = df['Nbedrooms'].fillna(df['Nbedrooms'].mean())"
      ],
      "execution_count": 0,
      "outputs": []
    },
    {
      "cell_type": "code",
      "metadata": {
        "id": "T4KtG0nsK7MQ",
        "colab_type": "code",
        "colab": {}
      },
      "source": [
        "df['Troom']=df['Troom'].fillna(df['Troom'].mean())"
      ],
      "execution_count": 0,
      "outputs": []
    },
    {
      "cell_type": "code",
      "metadata": {
        "id": "46fG9MG1N8aO",
        "colab_type": "code",
        "colab": {}
      },
      "source": [
        "df['Nbwashrooms']=df['Nbwashrooms'].fillna(df['Nbwashrooms'].mean())"
      ],
      "execution_count": 0,
      "outputs": []
    },
    {
      "cell_type": "code",
      "metadata": {
        "id": "hY4BtbVDO5Zb",
        "colab_type": "code",
        "colab": {}
      },
      "source": [
        "#no corr and also area!=3*lawn which i presume intially\n",
        "df['Lawn(Area)']=df['Lawn(Area)'].fillna(df['Lawn(Area)'].mean())"
      ],
      "execution_count": 0,
      "outputs": []
    },
    {
      "cell_type": "code",
      "metadata": {
        "id": "ByrpkyxoO5N5",
        "colab_type": "code",
        "colab": {}
      },
      "source": [
        "df['API']=df['API'].fillna(df['API'].mean())"
      ],
      "execution_count": 0,
      "outputs": []
    },
    {
      "cell_type": "code",
      "metadata": {
        "id": "zoT1e-PERrUD",
        "colab_type": "code",
        "colab": {}
      },
      "source": [
        "df['Twashrooms']=df['Twashrooms'].fillna(df['Twashrooms'].mean())"
      ],
      "execution_count": 0,
      "outputs": []
    },
    {
      "cell_type": "code",
      "metadata": {
        "id": "Q_biAgegR9NI",
        "colab_type": "code",
        "colab": {}
      },
      "source": [
        "float_cols=['API','Lawn(Area)','Nbedrooms','Nbwashrooms','Roof(Area)','Troom','Twashrooms']\n",
        "df[float_cols]=df[float_cols].applymap(np.int64)\n"
      ],
      "execution_count": 0,
      "outputs": []
    },
    {
      "cell_type": "code",
      "metadata": {
        "id": "_rKXv44lR9Le",
        "colab_type": "code",
        "colab": {}
      },
      "source": [
        "df['roof']= df['roof'].map({'NO':0,'no':0,'YES':1,'yes':1})"
      ],
      "execution_count": 0,
      "outputs": []
    },
    {
      "cell_type": "code",
      "metadata": {
        "id": "MJN4VFLscO3W",
        "colab_type": "code",
        "colab": {}
      },
      "source": [
        "df.Price=df.Price.str.rstrip('$').apply(np.int64)"
      ],
      "execution_count": 0,
      "outputs": []
    },
    {
      "cell_type": "code",
      "metadata": {
        "id": "Tcqele00cOzX",
        "colab_type": "code",
        "colab": {}
      },
      "source": [
        "from sklearn.preprocessing import LabelEncoder\n",
        "\n",
        "lbl=LabelEncoder()\n",
        "lbl.fit(list(y_train))\n",
        "y_train = lbl.transform(list(y_train))"
      ],
      "execution_count": 0,
      "outputs": []
    },
    {
      "cell_type": "code",
      "metadata": {
        "id": "W1Id-f61libc",
        "colab_type": "code",
        "colab": {}
      },
      "source": [
        "train = df[:ntrain]\n",
        "test = df[ntrain:]"
      ],
      "execution_count": 0,
      "outputs": []
    },
    {
      "cell_type": "code",
      "metadata": {
        "id": "bKqSuD2Rvt94",
        "colab_type": "code",
        "colab": {}
      },
      "source": [
        "test_id=test['id']\n",
        "test=test.drop('id',axis=1)"
      ],
      "execution_count": 0,
      "outputs": []
    },
    {
      "cell_type": "code",
      "metadata": {
        "id": "L2ZHlExCuj9B",
        "colab_type": "code",
        "colab": {}
      },
      "source": [
        "train=train.drop('id',axis=1)"
      ],
      "execution_count": 0,
      "outputs": []
    },
    {
      "cell_type": "code",
      "metadata": {
        "id": "L1QbzIuHwCbZ",
        "colab_type": "code",
        "colab": {
          "base_uri": "https://localhost:8080/",
          "height": 136
        },
        "outputId": "dbbfc88b-bf68-414d-cd10-657e2a345cf1"
      },
      "source": [
        "model1=xgb.XGBClassifier()\n",
        "model1.fit(train,y_train)"
      ],
      "execution_count": 164,
      "outputs": [
        {
          "output_type": "execute_result",
          "data": {
            "text/plain": [
              "XGBClassifier(base_score=0.5, booster='gbtree', colsample_bylevel=1,\n",
              "              colsample_bynode=1, colsample_bytree=1, gamma=0,\n",
              "              learning_rate=0.1, max_delta_step=0, max_depth=3,\n",
              "              min_child_weight=1, missing=None, n_estimators=100, n_jobs=1,\n",
              "              nthread=None, objective='multi:softprob', random_state=0,\n",
              "              reg_alpha=0, reg_lambda=1, scale_pos_weight=1, seed=None,\n",
              "              silent=None, subsample=1, verbosity=1)"
            ]
          },
          "metadata": {
            "tags": []
          },
          "execution_count": 164
        }
      ]
    },
    {
      "cell_type": "code",
      "metadata": {
        "id": "8sIF9CIcwzrw",
        "colab_type": "code",
        "colab": {}
      },
      "source": [
        "pred=model1.predict(test)"
      ],
      "execution_count": 0,
      "outputs": []
    },
    {
      "cell_type": "code",
      "metadata": {
        "id": "PDd02NR0wCPs",
        "colab_type": "code",
        "colab": {
          "base_uri": "https://localhost:8080/",
          "height": 34
        },
        "outputId": "73781276-5805-4f2a-c34c-a2fb369f06cd"
      },
      "source": [
        "pred"
      ],
      "execution_count": 166,
      "outputs": [
        {
          "output_type": "execute_result",
          "data": {
            "text/plain": [
              "array([1, 3, 2, ..., 2, 3, 3])"
            ]
          },
          "metadata": {
            "tags": []
          },
          "execution_count": 166
        }
      ]
    },
    {
      "cell_type": "code",
      "metadata": {
        "id": "TZIjB9YUxK6Q",
        "colab_type": "code",
        "colab": {}
      },
      "source": [
        "pred=lbl.inverse_transform(pred)"
      ],
      "execution_count": 0,
      "outputs": []
    },
    {
      "cell_type": "code",
      "metadata": {
        "id": "720NZEo0xRph",
        "colab_type": "code",
        "colab": {
          "base_uri": "https://localhost:8080/",
          "height": 34
        },
        "outputId": "c704a333-1f52-4081-e439-44ccd668e0a1"
      },
      "source": [
        "pred"
      ],
      "execution_count": 168,
      "outputs": [
        {
          "output_type": "execute_result",
          "data": {
            "text/plain": [
              "array(['B', 'D', 'C', ..., 'C', 'D', 'D'], dtype='<U1')"
            ]
          },
          "metadata": {
            "tags": []
          },
          "execution_count": 168
        }
      ]
    },
    {
      "cell_type": "code",
      "metadata": {
        "id": "6dMO0BWTxeJt",
        "colab_type": "code",
        "colab": {
          "base_uri": "https://localhost:8080/",
          "height": 34
        },
        "outputId": "d4b9c2e8-b056-41e9-8de2-c2f590fab827"
      },
      "source": [
        "pred.shape"
      ],
      "execution_count": 171,
      "outputs": [
        {
          "output_type": "execute_result",
          "data": {
            "text/plain": [
              "(3299,)"
            ]
          },
          "metadata": {
            "tags": []
          },
          "execution_count": 171
        }
      ]
    },
    {
      "cell_type": "code",
      "metadata": {
        "id": "NckvCNpHxV4o",
        "colab_type": "code",
        "colab": {
          "base_uri": "https://localhost:8080/",
          "height": 204
        },
        "outputId": "6e46dcaa-6f9b-46ea-db59-c0b3661adf6f"
      },
      "source": [
        "sub=pd.DataFrame()\n",
        "sub['id']=test_id\n",
        "sub['Grade']=pred\n",
        "sub.head()"
      ],
      "execution_count": 174,
      "outputs": [
        {
          "output_type": "execute_result",
          "data": {
            "text/html": [
              "<div>\n",
              "<style scoped>\n",
              "    .dataframe tbody tr th:only-of-type {\n",
              "        vertical-align: middle;\n",
              "    }\n",
              "\n",
              "    .dataframe tbody tr th {\n",
              "        vertical-align: top;\n",
              "    }\n",
              "\n",
              "    .dataframe thead th {\n",
              "        text-align: right;\n",
              "    }\n",
              "</style>\n",
              "<table border=\"1\" class=\"dataframe\">\n",
              "  <thead>\n",
              "    <tr style=\"text-align: right;\">\n",
              "      <th></th>\n",
              "      <th>id</th>\n",
              "      <th>Grade</th>\n",
              "    </tr>\n",
              "  </thead>\n",
              "  <tbody>\n",
              "    <tr>\n",
              "      <th>7000</th>\n",
              "      <td>1</td>\n",
              "      <td>B</td>\n",
              "    </tr>\n",
              "    <tr>\n",
              "      <th>7001</th>\n",
              "      <td>2</td>\n",
              "      <td>D</td>\n",
              "    </tr>\n",
              "    <tr>\n",
              "      <th>7002</th>\n",
              "      <td>3</td>\n",
              "      <td>C</td>\n",
              "    </tr>\n",
              "    <tr>\n",
              "      <th>7003</th>\n",
              "      <td>4</td>\n",
              "      <td>C</td>\n",
              "    </tr>\n",
              "    <tr>\n",
              "      <th>7004</th>\n",
              "      <td>5</td>\n",
              "      <td>D</td>\n",
              "    </tr>\n",
              "  </tbody>\n",
              "</table>\n",
              "</div>"
            ],
            "text/plain": [
              "      id Grade\n",
              "7000   1     B\n",
              "7001   2     D\n",
              "7002   3     C\n",
              "7003   4     C\n",
              "7004   5     D"
            ]
          },
          "metadata": {
            "tags": []
          },
          "execution_count": 174
        }
      ]
    },
    {
      "cell_type": "code",
      "metadata": {
        "id": "B4amwTSkyeqL",
        "colab_type": "code",
        "colab": {}
      },
      "source": [
        "sub.to_csv('submission_jai_ho.csv',index=False)"
      ],
      "execution_count": 0,
      "outputs": []
    },
    {
      "cell_type": "code",
      "metadata": {
        "id": "HajiqPaQyaEN",
        "colab_type": "code",
        "colab": {
          "base_uri": "https://localhost:8080/",
          "height": 136
        },
        "outputId": "8d88a3c0-277f-4644-f9e3-61cf2360e2c4"
      },
      "source": [
        "sub.info()"
      ],
      "execution_count": 175,
      "outputs": [
        {
          "output_type": "stream",
          "text": [
            "<class 'pandas.core.frame.DataFrame'>\n",
            "RangeIndex: 3299 entries, 7000 to 10298\n",
            "Data columns (total 2 columns):\n",
            "id       3299 non-null int64\n",
            "Grade    3299 non-null object\n",
            "dtypes: int64(1), object(1)\n",
            "memory usage: 51.7+ KB\n"
          ],
          "name": "stdout"
        }
      ]
    },
    {
      "cell_type": "code",
      "metadata": {
        "id": "9dqIxx_JyDg9",
        "colab_type": "code",
        "colab": {
          "base_uri": "https://localhost:8080/",
          "height": 136
        },
        "outputId": "f48fea39-ece6-4a8f-fabe-61ef8b8762b2"
      },
      "source": [
        "sample.info()"
      ],
      "execution_count": 173,
      "outputs": [
        {
          "output_type": "stream",
          "text": [
            "<class 'pandas.core.frame.DataFrame'>\n",
            "RangeIndex: 3299 entries, 0 to 3298\n",
            "Data columns (total 2 columns):\n",
            "id       3299 non-null int64\n",
            "Grade    3299 non-null object\n",
            "dtypes: int64(1), object(1)\n",
            "memory usage: 51.7+ KB\n"
          ],
          "name": "stdout"
        }
      ]
    },
    {
      "cell_type": "code",
      "metadata": {
        "id": "TSSCOoqgTk2v",
        "colab_type": "code",
        "colab": {
          "base_uri": "https://localhost:8080/",
          "height": 306
        },
        "outputId": "4bf2bc2d-74c3-4991-9722-a686e7ed2c9f"
      },
      "source": [
        "train.info()"
      ],
      "execution_count": 158,
      "outputs": [
        {
          "output_type": "stream",
          "text": [
            "<class 'pandas.core.frame.DataFrame'>\n",
            "RangeIndex: 7000 entries, 0 to 6999\n",
            "Data columns (total 12 columns):\n",
            "ANB            7000 non-null int64\n",
            "API            7000 non-null int64\n",
            "Area(total)    7000 non-null int64\n",
            "Lawn(Area)     7000 non-null int64\n",
            "Nbedrooms      7000 non-null int64\n",
            "Nbwashrooms    7000 non-null int64\n",
            "Nfloors        7000 non-null int64\n",
            "Price          7000 non-null int64\n",
            "Roof(Area)     7000 non-null int64\n",
            "Troom          7000 non-null int64\n",
            "Twashrooms     7000 non-null int64\n",
            "roof           7000 non-null int64\n",
            "dtypes: int64(12)\n",
            "memory usage: 656.4 KB\n"
          ],
          "name": "stdout"
        }
      ]
    },
    {
      "cell_type": "code",
      "metadata": {
        "id": "gBItAPC1TkzT",
        "colab_type": "code",
        "colab": {}
      },
      "source": [
        ""
      ],
      "execution_count": 0,
      "outputs": []
    }
  ]
}