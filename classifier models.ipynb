{
  "nbformat": 4,
  "nbformat_minor": 0,
  "metadata": {
    "colab": {
      "name": "skillenza",
      "provenance": [],
      "include_colab_link": true
    },
    "kernelspec": {
      "name": "python3",
      "display_name": "Python 3"
    },
    "accelerator": "GPU"
  },
  "cells": [
    {
      "cell_type": "markdown",
      "metadata": {
        "id": "view-in-github",
        "colab_type": "text"
      },
      "source": [
        "<a href=\"https://colab.research.google.com/github/june12mayank/Machine_learning_notebooks/blob/master/classifier%20models.ipynb\" target=\"_parent\"><img src=\"https://colab.research.google.com/assets/colab-badge.svg\" alt=\"Open In Colab\"/></a>"
      ]
    },
    {
      "cell_type": "code",
      "metadata": {
        "id": "NzsF7-YYPMMN",
        "colab_type": "code",
        "colab": {}
      },
      "source": [
        "import pandas as pd\n",
        "import matplotlib.pyplot as plt\n",
        "import seaborn as sns\n",
        "import numpy as np\n",
        "%matplotlib inline\n",
        "color = sns.color_palette()\n",
        "sns.set_style('darkgrid')\n",
        "import warnings\n",
        "def ignore_warn(*args, **kwargs):\n",
        "    pass\n",
        "warnings.warn = ignore_warn\n",
        "from scipy import stats\n",
        "from scipy.stats import norm, skew\n",
        "import xgboost as xgb\n",
        "from sklearn.model_selection import train_test_split\n",
        "from sklearn.preprocessing import LabelEncoder"
      ],
      "execution_count": 0,
      "outputs": []
    },
    {
      "cell_type": "code",
      "metadata": {
        "id": "9a9PvlWLPrBm",
        "colab_type": "code",
        "colab": {}
      },
      "source": [
        "sample=pd.read_csv('/content/SAMPLE.csv')\n",
        "test=pd.read_csv('/content/TEST.csv')\n",
        "train=pd.read_csv('/content/TRAINING.csv')"
      ],
      "execution_count": 0,
      "outputs": []
    },
    {
      "cell_type": "code",
      "metadata": {
        "id": "_GdnhOnC6i2b",
        "colab_type": "code",
        "colab": {
          "base_uri": "https://localhost:8080/",
          "height": 170
        },
        "outputId": "e65f81ce-7f0b-481e-d2f5-4bf870464982"
      },
      "source": [
        "train_id=train['id']\n",
        "test_id=test['id']\n",
        "ntrain=train.shape[0]\n",
        "ntest=test.shape[0]\n",
        "y_train=train.Grade.values\n",
        "df=pd.concat((train,test)).reset_index(drop=True)\n",
        "df.drop(['Grade'],axis=1,inplace=True)\n",
        "all_data_na = (df.isnull().sum() / len(df)) * 100\n",
        "all_data_na = all_data_na.drop(all_data_na[all_data_na == 0].index).sort_values(ascending=False)[:30]\n",
        "missing_data = pd.DataFrame({'Missing Ratio' :all_data_na})\n",
        "print(missing_data)"
      ],
      "execution_count": 5,
      "outputs": [
        {
          "output_type": "stream",
          "text": [
            "             Missing Ratio\n",
            "roof             19.477619\n",
            "Roof(Area)       19.477619\n",
            "Nbedrooms         0.038839\n",
            "Troom             0.029129\n",
            "Nbwashrooms       0.029129\n",
            "Lawn(Area)        0.029129\n",
            "API               0.019419\n",
            "Twashrooms        0.009710\n"
          ],
          "name": "stdout"
        }
      ]
    },
    {
      "cell_type": "code",
      "metadata": {
        "id": "Tt2LMmBX9Ejl",
        "colab_type": "code",
        "colab": {}
      },
      "source": [
        "df['roof']=df['roof'].fillna('NO')\n",
        "df['Roof(Area)']=df['Roof(Area)'].fillna(0.0)\n",
        "df[\"Nbedrooms\"] = df['Nbedrooms'].fillna(df['Nbedrooms'].mean())\n",
        "df['Troom']=df['Troom'].fillna(df['Troom'].mean())\n",
        "df['Nbwashrooms']=df['Nbwashrooms'].fillna(df['Nbwashrooms'].mean())\n",
        "df['Lawn(Area)']=df['Lawn(Area)'].fillna(df['Lawn(Area)'].mean())\n",
        "df['API']=df['API'].fillna(df['API'].mean())\n",
        "df['Twashrooms']=df['Twashrooms'].fillna(df['Twashrooms'].mean())\n",
        "float_cols=['API','Lawn(Area)','Nbedrooms','Nbwashrooms','Roof(Area)','Troom','Twashrooms']\n",
        "df[float_cols]=df[float_cols].applymap(np.int64)\n",
        "df['roof']= df['roof'].map({'NO':0,'no':0,'YES':1,'yes':1})\n",
        "df.Price=df.Price.str.rstrip('$').apply(np.int64)"
      ],
      "execution_count": 0,
      "outputs": []
    },
    {
      "cell_type": "code",
      "metadata": {
        "id": "IR3BsKUj3Hrm",
        "colab_type": "code",
        "colab": {
          "base_uri": "https://localhost:8080/",
          "height": 34
        },
        "outputId": "a0a0cffb-fa56-4c1a-e461-420a0133cc65"
      },
      "source": [
        "y_train"
      ],
      "execution_count": 7,
      "outputs": [
        {
          "output_type": "execute_result",
          "data": {
            "text/plain": [
              "array(['D', 'B', 'C', ..., 'D', 'B', 'C'], dtype=object)"
            ]
          },
          "metadata": {
            "tags": []
          },
          "execution_count": 7
        }
      ]
    },
    {
      "cell_type": "code",
      "metadata": {
        "id": "uWYyvuRj4x5n",
        "colab_type": "code",
        "colab": {
          "base_uri": "https://localhost:8080/",
          "height": 34
        },
        "outputId": "8a5ade63-18eb-4f95-cf7c-7df2e11ee813"
      },
      "source": [
        "y_train"
      ],
      "execution_count": 8,
      "outputs": [
        {
          "output_type": "execute_result",
          "data": {
            "text/plain": [
              "array(['D', 'B', 'C', ..., 'D', 'B', 'C'], dtype=object)"
            ]
          },
          "metadata": {
            "tags": []
          },
          "execution_count": 8
        }
      ]
    },
    {
      "cell_type": "code",
      "metadata": {
        "id": "0GFTHgDF44BG",
        "colab_type": "code",
        "colab": {}
      },
      "source": [
        "my_dict = {'A':5, 'B':4, 'C':3, 'D':2,'E':1}\n",
        "y_train=np.vectorize(my_dict.get)(y_train)"
      ],
      "execution_count": 0,
      "outputs": []
    },
    {
      "cell_type": "code",
      "metadata": {
        "id": "Tcqele00cOzX",
        "colab_type": "code",
        "colab": {}
      },
      "source": [
        "#lbl=LabelEncoder()\n",
        "#lbl.fit(list(y_train))\n",
        "#y_train = lbl.transform(list(y_train))\n",
        "#label transform has ambiguity in more than 2 classes and one hot encoding creates multiple cols."
      ],
      "execution_count": 0,
      "outputs": []
    },
    {
      "cell_type": "code",
      "metadata": {
        "id": "ng4Nh5XNurYT",
        "colab_type": "code",
        "colab": {
          "base_uri": "https://localhost:8080/",
          "height": 34
        },
        "outputId": "a645f4a2-5bc2-4996-f67a-2624235e9333"
      },
      "source": [
        "uniq,counts=np.unique(y_train,return_counts=True)\n",
        "uniq,counts"
      ],
      "execution_count": 11,
      "outputs": [
        {
          "output_type": "execute_result",
          "data": {
            "text/plain": [
              "(array([1, 2, 3, 4, 5]), array([  26, 2129, 2928, 1475,  442]))"
            ]
          },
          "metadata": {
            "tags": []
          },
          "execution_count": 11
        }
      ]
    },
    {
      "cell_type": "code",
      "metadata": {
        "id": "bFmxUI38waeB",
        "colab_type": "code",
        "colab": {
          "base_uri": "https://localhost:8080/",
          "height": 34
        },
        "outputId": "db0d5ff3-c456-4743-8561-27b4a3fff11a"
      },
      "source": [
        "y_train.dtype"
      ],
      "execution_count": 12,
      "outputs": [
        {
          "output_type": "execute_result",
          "data": {
            "text/plain": [
              "dtype('int64')"
            ]
          },
          "metadata": {
            "tags": []
          },
          "execution_count": 12
        }
      ]
    },
    {
      "cell_type": "code",
      "metadata": {
        "id": "W1Id-f61libc",
        "colab_type": "code",
        "colab": {}
      },
      "source": [
        "train = df[:ntrain]\n",
        "test = df[ntrain:]\n",
        "test_id=test['id']\n",
        "test=test.drop('id',axis=1)\n",
        "train=train.drop('id',axis=1)"
      ],
      "execution_count": 0,
      "outputs": []
    },
    {
      "cell_type": "code",
      "metadata": {
        "id": "HnGPqaFJF2IH",
        "colab_type": "code",
        "colab": {}
      },
      "source": [
        "#logistic Regression\n",
        "from sklearn.linear_model import LogisticRegression\n",
        "model2=LogisticRegression()\n",
        "model2.fit(train,y_train)\n",
        "pred2=model2.predict(test)"
      ],
      "execution_count": 0,
      "outputs": []
    },
    {
      "cell_type": "code",
      "metadata": {
        "id": "j5ubiYzGF19S",
        "colab_type": "code",
        "colab": {}
      },
      "source": [
        "from sklearn.ensemble import RandomForestClassifier\n",
        "model3=RandomForestClassifier(n_estimators=100,random_state=0)\n",
        "model3.fit(train,y_train)\n",
        "pred3=model3.predict(test)"
      ],
      "execution_count": 0,
      "outputs": []
    },
    {
      "cell_type": "code",
      "metadata": {
        "id": "bKqSuD2Rvt94",
        "colab_type": "code",
        "colab": {}
      },
      "source": [
        "model1=xgb.XGBClassifier()\n",
        "model1.fit(train,y_train)\n",
        "pred1=model1.predict(test)"
      ],
      "execution_count": 0,
      "outputs": []
    },
    {
      "cell_type": "code",
      "metadata": {
        "id": "a3ZUYMOEc2Wo",
        "colab_type": "code",
        "colab": {}
      },
      "source": [
        "from lightgbm import LGBMClassifier\n",
        "model4=LGBMClassifier()\n",
        "model4.fit(train,y_train)\n",
        "pred4=model4.predict(test)"
      ],
      "execution_count": 0,
      "outputs": []
    },
    {
      "cell_type": "code",
      "metadata": {
        "id": "O8jRRy9cc2Ha",
        "colab_type": "code",
        "colab": {}
      },
      "source": [
        "import lightgbm as lgb\n",
        "lgb_params = {\n",
        "    'learning_rate': 0.002,\n",
        "    'max_depth': 10,\n",
        "    'num_leaves': 10, \n",
        "    'metric':'acc',\n",
        "    'sub_feature': 0.5,\n",
        "    'min_data': 50,\n",
        "    'boosting_type':'gbdt'}\n",
        "dtrain_lgb = lgb.Dataset(train,y_train)\n",
        "model5=lgb.train(lgb_params,dtrain_lgb,1000)\n",
        "pred5=model5.predict(test)\n",
        "pred5=pred5.astype(np.int64)"
      ],
      "execution_count": 0,
      "outputs": []
    },
    {
      "cell_type": "code",
      "metadata": {
        "id": "Nwil-XkYfeXI",
        "colab_type": "code",
        "colab": {}
      },
      "source": [
        ""
      ],
      "execution_count": 0,
      "outputs": []
    },
    {
      "cell_type": "code",
      "metadata": {
        "id": "_0CXGNMNg7AG",
        "colab_type": "code",
        "colab": {}
      },
      "source": [
        ""
      ],
      "execution_count": 0,
      "outputs": []
    },
    {
      "cell_type": "code",
      "metadata": {
        "id": "ezv6XZEnF1tw",
        "colab_type": "code",
        "colab": {}
      },
      "source": [
        "my_dict = {5:'A', 4:'B', 3:'C',2:'D',1:'E'}\n",
        "pred1=np.vectorize(my_dict.get)(pred1)\n",
        "pred2=np.vectorize(my_dict.get)(pred2)\n",
        "pred3=np.vectorize(my_dict.get)(pred3)\n",
        "pred4=np.vectorize(my_dict.get)(pred4)\n",
        "pred5=np.vectorize(my_dict.get)(pred5)"
      ],
      "execution_count": 0,
      "outputs": []
    },
    {
      "cell_type": "code",
      "metadata": {
        "id": "L2ZHlExCuj9B",
        "colab_type": "code",
        "colab": {}
      },
      "source": [
        "sub=pd.DataFrame()\n",
        "sub['id']=test_id\n",
        "sub['Grade']=pred5\n",
        "sub.to_csv('submission_jai_ho6.csv',index=False)"
      ],
      "execution_count": 0,
      "outputs": []
    }
  ]
}